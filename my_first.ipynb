{
 "cells": [
  {
   "cell_type": "code",
   "execution_count": 1,
   "metadata": {
    "pycharm": {
     "is_executing": false
    }
   },
   "outputs": [],
   "source": [
    "# imports \n",
    "from tyrell.logger import get_logger\n",
    "from multipleValidate import synthesize, show\n",
    "logger = get_logger('tyrell')\n",
    "logger.setLevel(\"INFO\")"
   ]
  },
  {
   "cell_type": "code",
   "execution_count": 2,
   "metadata": {
    "pycharm": {
     "is_executing": false
    }
   },
   "outputs": [
    {
     "name": "stdout",
     "output_type": "stream",
     "text": [
      "Valid examples:\n",
      "\u001b[34m  ['0-85']\u001b[0m\n",
      "\u001b[34m  ['3-05']\u001b[0m\n",
      "\u001b[34m  ['6-56']\u001b[0m\n",
      "\u001b[34m  ['6-16']\u001b[0m\n",
      "\u001b[34m  ['4-67']\u001b[0m\n",
      "\u001b[34m  ['4-15']\u001b[0m\n",
      "\u001b[34m  ['9-20']\u001b[0m\n",
      "\u001b[34m  ['7-67']\u001b[0m\n",
      "\u001b[34m  ['7-53']\u001b[0m\n",
      "\u001b[34m  ['0-29']\u001b[0m\n",
      "\u001b[34m  ['7-81']\u001b[0m\n",
      "\u001b[34m  ['6-92']\u001b[0m\n",
      "\u001b[34m  ['7-48']\u001b[0m\n",
      "\u001b[34m  ['5-91']\u001b[0m\n",
      "\u001b[34m  ['8-01']\u001b[0m\n",
      "\u001b[34m  ['0-40']\u001b[0m\n",
      "\u001b[34m  ['0-10']\u001b[0m\n",
      "\u001b[34m  ['9-41']\u001b[0m\n",
      "\u001b[34m  ['7-58']\u001b[0m\n",
      "\u001b[34m  ['5-00']\u001b[0m\n",
      "Invalid examples:\n",
      "\u001b[31m  ['1-DX']\u001b[0m\n",
      "\u001b[31m  ['9-LW']\u001b[0m\n",
      "\u001b[31m  ['1-VV']\u001b[0m\n",
      "\u001b[31m  ['4-PR']\u001b[0m\n",
      "\u001b[31m  ['4-KH']\u001b[0m\n",
      "\u001b[31m  ['4/76']\u001b[0m\n",
      "\u001b[31m  ['5/14']\u001b[0m\n",
      "\u001b[31m  ['2_69']\u001b[0m\n",
      "\u001b[31m  ['1/44']\u001b[0m\n",
      "\u001b[31m  ['5_59']\u001b[0m\n",
      "\u001b[31m  ['V-88']\u001b[0m\n",
      "\u001b[31m  ['C-91']\u001b[0m\n",
      "\u001b[31m  ['L-31']\u001b[0m\n",
      "\u001b[31m  ['V-40']\u001b[0m\n",
      "\u001b[31m  ['8-3']\u001b[0m\n",
      "\u001b[31m  ['8-4']\u001b[0m\n",
      "\u001b[31m  ['4-4']\u001b[0m\n",
      "\u001b[31m  ['495']\u001b[0m\n",
      "\u001b[31m  ['884']\u001b[0m\n"
     ]
    }
   ],
   "source": [
    "show(\"instances/strings/regex1.txt\")"
   ]
  },
  {
   "cell_type": "code",
   "execution_count": 3,
   "metadata": {
    "pycharm": {
     "is_executing": false
    }
   },
   "outputs": [
    {
     "name": "stdout",
     "output_type": "stream",
     "text": [
      "[info] Parsing examples from file instances/strings/regex2.txt\n",
      "[info] Assuming types: ['is_string']\n",
      "[info] Synthesizer done for depth 3 after 7 attempts and 0 seconds\n",
      "[info] Synthesizer done for depth 4 after 38 attempts and 1 seconds\n",
      "[info] Program accepted after 302 attempts and 5 seconds:\n",
      "[info] match([0-9]-[0-9]+, IN)\n",
      "[info] Synthesizer done for depth 5 after 625 attempts and 12 seconds\n",
      "[info] Solution: is_string(IN) /\\ match([0-9]-[0-9]+, IN)\n",
      "[info] depth: 5\n"
     ]
    }
   ],
   "source": [
    "# finds only one program\n",
    "synthesize(\"instances/strings/regex2.txt\")"
   ]
  },
  {
   "cell_type": "code",
   "execution_count": 4,
   "metadata": {
    "pycharm": {
     "is_executing": false,
     "name": "#%%\n"
    }
   },
   "outputs": [
    {
     "name": "stdout",
     "output_type": "stream",
     "text": [
      "[info] Parsing examples from file instances/strings/regex1.txt\n",
      "[info] Assuming types: ['is_string']\n",
      "[info] Synthesizer done for depth 3 after 5 attempts and 0 seconds\n",
      "[info] Synthesizer done for depth 4 after 20 attempts and 0 seconds\n",
      "[info] Program accepted after 12 attempts and 0 seconds:\n",
      "[info] match([0-9]-[0-9][0-9], IN)\n",
      "[info] Program accepted after 62 attempts and 1 seconds:\n",
      "[info] match([0-9]-[0-9]{2}, IN)\n",
      "[info] Programs are indistinguishable\n",
      "[info] Synthesizer done for depth 5 after 220 attempts and 4 seconds\n",
      "[info] Solution: is_string(IN) /\\ match([0-9]-[0-9]{2}, IN)\n",
      "[info] depth: 5\n"
     ]
    }
   ],
   "source": [
    "# finds 2 programs and they are the same\n",
    "synthesize(\"instances/strings/regex1.txt\")"
   ]
  },
  {
   "cell_type": "code",
   "execution_count": 5,
   "metadata": {},
   "outputs": [
    {
     "name": "stdout",
     "output_type": "stream",
     "text": [
      "Valid examples:\n",
      "\u001b[34m  ['4-X3']\u001b[0m\n",
      "\u001b[34m  ['8-C1']\u001b[0m\n",
      "\u001b[34m  ['3-U4']\u001b[0m\n",
      "\u001b[34m  ['3-C8']\u001b[0m\n",
      "\u001b[34m  ['6-G6']\u001b[0m\n",
      "\u001b[34m  ['2-P7']\u001b[0m\n",
      "\u001b[34m  ['6-Z1']\u001b[0m\n",
      "\u001b[34m  ['9-B0']\u001b[0m\n",
      "\u001b[34m  ['5-M4']\u001b[0m\n",
      "\u001b[34m  ['6-L6']\u001b[0m\n",
      "\u001b[34m  ['3-U9']\u001b[0m\n",
      "\u001b[34m  ['4-F3']\u001b[0m\n",
      "\u001b[34m  ['5-O2']\u001b[0m\n",
      "\u001b[34m  ['3-Y8']\u001b[0m\n",
      "\u001b[34m  ['6-Z8']\u001b[0m\n",
      "\u001b[34m  ['5-O6']\u001b[0m\n",
      "\u001b[34m  ['9-J8']\u001b[0m\n",
      "\u001b[34m  ['9-B2']\u001b[0m\n",
      "\u001b[34m  ['0-G9']\u001b[0m\n",
      "Invalid examples:\n",
      "\u001b[31m  ['0-85']\u001b[0m\n",
      "\u001b[31m  ['3-05']\u001b[0m\n",
      "\u001b[31m  ['0-10']\u001b[0m\n",
      "\u001b[31m  ['9-41']\u001b[0m\n",
      "\u001b[31m  ['7-58']\u001b[0m\n",
      "\u001b[31m  ['5-00']\u001b[0m\n",
      "\u001b[31m  ['1-DX']\u001b[0m\n",
      "\u001b[31m  ['9-LW']\u001b[0m\n",
      "\u001b[31m  ['1-VV']\u001b[0m\n",
      "\u001b[31m  ['4-PR']\u001b[0m\n",
      "\u001b[31m  ['4-KH']\u001b[0m\n",
      "\u001b[31m  ['1-4X']\u001b[0m\n",
      "\u001b[31m  ['9-9W']\u001b[0m\n",
      "\u001b[31m  ['1-2V']\u001b[0m\n",
      "\u001b[31m  ['4-0R']\u001b[0m\n",
      "\u001b[31m  ['4-1H']\u001b[0m\n",
      "\u001b[31m  ['4/76']\u001b[0m\n",
      "\u001b[31m  ['5/14']\u001b[0m\n",
      "\u001b[31m  ['2_69']\u001b[0m\n",
      "\u001b[31m  ['1/44']\u001b[0m\n",
      "\u001b[31m  ['5_59']\u001b[0m\n",
      "\u001b[31m  ['V-88']\u001b[0m\n",
      "\u001b[31m  ['C-91']\u001b[0m\n",
      "\u001b[31m  ['L-31']\u001b[0m\n",
      "\u001b[31m  ['V-40']\u001b[0m\n",
      "\u001b[31m  ['8-3']\u001b[0m\n",
      "\u001b[31m  ['8-4']\u001b[0m\n",
      "\u001b[31m  ['4-4']\u001b[0m\n",
      "\u001b[31m  ['495']\u001b[0m\n",
      "\u001b[31m  ['884']\u001b[0m\n"
     ]
    }
   ],
   "source": [
    "show(\"instances/strings/ambiguous/regex4.txt\")"
   ]
  },
  {
   "cell_type": "code",
   "execution_count": 6,
   "metadata": {
    "pycharm": {
     "is_executing": false
    }
   },
   "outputs": [
    {
     "name": "stdout",
     "output_type": "stream",
     "text": [
      "[info] Parsing examples from file instances/strings/ambiguous/regex4.txt\n",
      "[info] Assuming types: ['is_string']\n",
      "[info] Synthesizer done for depth 3 after 7 attempts and 0 seconds\n",
      "[info] Synthesizer done for depth 4 after 49 attempts and 0 seconds\n",
      "[info] Program accepted after 332 attempts and 7 seconds:\n",
      "[info] match([0-9A-Z]-[A-Z][0-9], IN)\n",
      "[info] Program accepted after 641 attempts and 14 seconds:\n",
      "[info] match([0-9]-[A-Z][0-9], IN)\n",
      "[info] Distinguishing input: A-P2\n",
      "Is \"A-P2\" valid?\n",
      "no\n",
      "[info] Enumerated 1000 programs in 29 seconds.\n",
      "[info] DSL has 284 predicates.\n",
      "[info] Synthesizer done for depth 5 after 1280 attempts and 35 seconds\n",
      "[info] Solution: is_string(IN) /\\ match([0-9]-[A-Z][0-9], IN)\n",
      "[info] depth: 5\n"
     ]
    }
   ],
   "source": [
    "synthesize(\"instances/strings/ambiguous/regex4.txt\")"
   ]
  },
  {
   "cell_type": "code",
   "execution_count": 7,
   "metadata": {
    "pycharm": {
     "is_executing": false
    }
   },
   "outputs": [
    {
     "name": "stdout",
     "output_type": "stream",
     "text": [
      "Valid examples:\n",
      "\u001b[34m  ['ist193985']\u001b[0m\n",
      "\u001b[34m  ['ist425891']\u001b[0m\n",
      "\u001b[34m  ['ist187769']\u001b[0m\n",
      "\u001b[34m  ['ist194149']\u001b[0m\n",
      "\u001b[34m  ['ist181361']\u001b[0m\n",
      "\u001b[34m  ['ist426036']\u001b[0m\n",
      "\u001b[34m  ['ist178742']\u001b[0m\n",
      "\u001b[34m  ['ist191063']\u001b[0m\n",
      "\u001b[34m  ['ist181338']\u001b[0m\n",
      "\u001b[34m  ['ist178022']\u001b[0m\n",
      "\u001b[34m  ['ist425904']\u001b[0m\n",
      "\u001b[34m  ['ist426008']\u001b[0m\n",
      "Invalid examples:\n",
      "\u001b[31m  ['80832']\u001b[0m\n",
      "\u001b[31m  ['ost425891']\u001b[0m\n",
      "\u001b[31m  ['ist']\u001b[0m\n",
      "\u001b[31m  ['st181361']\u001b[0m\n",
      "\u001b[31m  ['is426036']\u001b[0m\n",
      "\u001b[31m  ['iat178742']\u001b[0m\n"
     ]
    }
   ],
   "source": [
    "#Tecnico IDs with more than one round of interaction\n",
    "show(\"instances/strings/ambiguous/TecnicoID2.txt\")"
   ]
  },
  {
   "cell_type": "code",
   "execution_count": 9,
   "metadata": {},
   "outputs": [
    {
     "name": "stdout",
     "output_type": "stream",
     "text": [
      "[info] Parsing examples from file instances/strings/ambiguous/TecnicoID2.txt\n",
      "[info] Assuming types: ['is_string']\n",
      "[info] Synthesizer done for depth 3 after 5 attempts and 0 seconds\n",
      "[info] Synthesizer done for depth 4 after 30 attempts and 0 seconds\n",
      "[info] Program accepted after 118 attempts and 3 seconds:\n",
      "[info] match(ist[0-9]+, IN)\n",
      "[info] Program accepted after 133 attempts and 3 seconds:\n",
      "[info] match(([0-9]|ist){7}, IN)\n",
      "[info] Distinguishing input: ist4\n",
      "Is \"ist4\" valid?\n",
      "0\n",
      "[info] Program accepted after 170 attempts and 11 seconds:\n",
      "[info] match(ist[0-9][0-9]+, IN)\n",
      "[info] Distinguishing input: ist392\n",
      "Is \"ist392\" valid?\n",
      "no\n",
      "[info] Program accepted after 181 attempts and 15 seconds:\n",
      "[info] match(([0-9]|ist)[0-9]{6}, IN)\n",
      "[info] Distinguishing input: istist93444\n",
      "Is \"istist93444\" valid?\n",
      "NO\n",
      "[info] Program accepted after 190 attempts and 21 seconds:\n",
      "[info] match(ist[0-9][0-9]{5}, IN)\n",
      "[info] Distinguishing input: 4802204\n",
      "Is \"4802204\" valid?\n",
      "no\n",
      "[info] Program accepted after 337 attempts and 25 seconds:\n",
      "[info] match(ist[0-9]{6}, IN)\n",
      "[info] Programs are indistinguishable\n",
      "[info] Synthesizer done for depth 5 after 349 attempts and 26 seconds\n",
      "[info] Solution: is_string(IN) /\\ match(ist[0-9]{6}, IN)\n",
      "[info] depth: 5\n"
     ]
    }
   ],
   "source": [
    "synthesize(\"instances/strings/ambiguous/TecnicoID2.txt\")"
   ]
  },
  {
   "cell_type": "code",
   "execution_count": null,
   "metadata": {},
   "outputs": [],
   "source": []
  }
 ],
 "metadata": {
  "kernelspec": {
   "display_name": "Python 3",
   "language": "python",
   "name": "python3"
  },
  "language_info": {
   "codemirror_mode": {
    "name": "ipython",
    "version": 3
   },
   "file_extension": ".py",
   "mimetype": "text/x-python",
   "name": "python",
   "nbconvert_exporter": "python",
   "pygments_lexer": "ipython3",
   "version": "3.8.1"
  },
  "pycharm": {
   "stem_cell": {
    "cell_type": "raw",
    "metadata": {
     "collapsed": false
    },
    "source": []
   }
  }
 },
 "nbformat": 4,
 "nbformat_minor": 4
}
